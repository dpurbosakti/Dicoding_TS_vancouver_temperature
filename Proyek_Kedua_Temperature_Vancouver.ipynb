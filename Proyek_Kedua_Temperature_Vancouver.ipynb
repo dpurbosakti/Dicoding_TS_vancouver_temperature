{
  "nbformat": 4,
  "nbformat_minor": 0,
  "metadata": {
    "colab": {
      "name": "Proyek Kedua: Temperature Vancouver.ipynb",
      "provenance": [],
      "collapsed_sections": [],
      "include_colab_link": true
    },
    "kernelspec": {
      "name": "python3",
      "display_name": "Python 3"
    },
    "language_info": {
      "name": "python"
    },
    "accelerator": "GPU"
  },
  "cells": [
    {
      "cell_type": "markdown",
      "metadata": {
        "id": "view-in-github",
        "colab_type": "text"
      },
      "source": [
        "<a href=\"https://colab.research.google.com/github/dpurbosakti/Dicoding_TS_vancouver_temperature/blob/master/Proyek_Kedua_Temperature_Vancouver.ipynb\" target=\"_parent\"><img src=\"https://colab.research.google.com/assets/colab-badge.svg\" alt=\"Open In Colab\"/></a>"
      ]
    },
    {
      "cell_type": "code",
      "metadata": {
        "id": "fqTZe4tD3Knj"
      },
      "source": [
        "import numpy as np\n",
        "import pandas as pd\n",
        "from keras.layers import Dense, LSTM\n",
        "import matplotlib.pyplot as plt\n",
        "import tensorflow as tf"
      ],
      "execution_count": null,
      "outputs": []
    },
    {
      "cell_type": "code",
      "metadata": {
        "id": "I-oC-Y_d3b4V"
      },
      "source": [
        "data_train = pd.read_csv('/content/drive/MyDrive/Colab Notebooks/Dicoding - ML Pengembangan/sample data/Canadian_climate_history.csv')\n",
        "data_train = data_train[['LOCAL_DATE', 'MEAN_TEMPERATURE_VANCOUVER']]"
      ],
      "execution_count": null,
      "outputs": []
    },
    {
      "cell_type": "code",
      "metadata": {
        "colab": {
          "base_uri": "https://localhost:8080/"
        },
        "id": "Rm9bQ_NfIsg_",
        "outputId": "e3f1afc8-0597-4557-a12e-0a02e0830f51"
      },
      "source": [
        "from google.colab import drive\n",
        "drive.mount('/content/drive')"
      ],
      "execution_count": null,
      "outputs": [
        {
          "output_type": "stream",
          "text": [
            "Mounted at /content/drive\n"
          ],
          "name": "stdout"
        }
      ]
    },
    {
      "cell_type": "code",
      "metadata": {
        "colab": {
          "base_uri": "https://localhost:8080/",
          "height": 204
        },
        "id": "2TX_WUS1jeh1",
        "outputId": "ea282982-a699-438f-b407-eaf623b6c9ca"
      },
      "source": [
        "data_train['LOCAL_DATE'] = data_train['LOCAL_DATE'].str.split(\" \").str[0].str.split(\"-\").str[2]\n",
        "data_train.head()"
      ],
      "execution_count": null,
      "outputs": [
        {
          "output_type": "execute_result",
          "data": {
            "text/html": [
              "<div>\n",
              "<style scoped>\n",
              "    .dataframe tbody tr th:only-of-type {\n",
              "        vertical-align: middle;\n",
              "    }\n",
              "\n",
              "    .dataframe tbody tr th {\n",
              "        vertical-align: top;\n",
              "    }\n",
              "\n",
              "    .dataframe thead th {\n",
              "        text-align: right;\n",
              "    }\n",
              "</style>\n",
              "<table border=\"1\" class=\"dataframe\">\n",
              "  <thead>\n",
              "    <tr style=\"text-align: right;\">\n",
              "      <th></th>\n",
              "      <th>LOCAL_DATE</th>\n",
              "      <th>MEAN_TEMPERATURE_VANCOUVER</th>\n",
              "    </tr>\n",
              "  </thead>\n",
              "  <tbody>\n",
              "    <tr>\n",
              "      <th>0</th>\n",
              "      <td>1940</td>\n",
              "      <td>8.9</td>\n",
              "    </tr>\n",
              "    <tr>\n",
              "      <th>1</th>\n",
              "      <td>1940</td>\n",
              "      <td>9.7</td>\n",
              "    </tr>\n",
              "    <tr>\n",
              "      <th>2</th>\n",
              "      <td>1940</td>\n",
              "      <td>7.8</td>\n",
              "    </tr>\n",
              "    <tr>\n",
              "      <th>3</th>\n",
              "      <td>1940</td>\n",
              "      <td>8.1</td>\n",
              "    </tr>\n",
              "    <tr>\n",
              "      <th>4</th>\n",
              "      <td>1940</td>\n",
              "      <td>7.0</td>\n",
              "    </tr>\n",
              "  </tbody>\n",
              "</table>\n",
              "</div>"
            ],
            "text/plain": [
              "  LOCAL_DATE  MEAN_TEMPERATURE_VANCOUVER\n",
              "0       1940                         8.9\n",
              "1       1940                         9.7\n",
              "2       1940                         7.8\n",
              "3       1940                         8.1\n",
              "4       1940                         7.0"
            ]
          },
          "metadata": {
            "tags": []
          },
          "execution_count": 6
        }
      ]
    },
    {
      "cell_type": "code",
      "metadata": {
        "id": "ktDl8GA5r3__",
        "colab": {
          "base_uri": "https://localhost:8080/"
        },
        "outputId": "900dd11c-54ff-48b6-d337-205895f123f1"
      },
      "source": [
        "data_train.shape"
      ],
      "execution_count": null,
      "outputs": [
        {
          "output_type": "execute_result",
          "data": {
            "text/plain": [
              "(29221, 2)"
            ]
          },
          "metadata": {
            "tags": []
          },
          "execution_count": 7
        }
      ]
    },
    {
      "cell_type": "code",
      "metadata": {
        "id": "d3Iax3wa-w-Q",
        "colab": {
          "base_uri": "https://localhost:8080/"
        },
        "outputId": "4db9f953-0a1e-4247-8315-b7efa8a9ae1a"
      },
      "source": [
        "data_train.isna().sum()"
      ],
      "execution_count": null,
      "outputs": [
        {
          "output_type": "execute_result",
          "data": {
            "text/plain": [
              "LOCAL_DATE                     0\n",
              "MEAN_TEMPERATURE_VANCOUVER    53\n",
              "dtype: int64"
            ]
          },
          "metadata": {
            "tags": []
          },
          "execution_count": 8
        }
      ]
    },
    {
      "cell_type": "code",
      "metadata": {
        "id": "MJzponqlFck2",
        "colab": {
          "base_uri": "https://localhost:8080/"
        },
        "outputId": "8190e3d8-0012-4587-e3e1-6a74ae74f8e8"
      },
      "source": [
        "data_train['MEAN_TEMPERATURE_VANCOUVER'] = data_train['MEAN_TEMPERATURE_VANCOUVER'].fillna((data_train['MEAN_TEMPERATURE_VANCOUVER'].mean()))\n",
        "data_train.isna().sum()"
      ],
      "execution_count": null,
      "outputs": [
        {
          "output_type": "execute_result",
          "data": {
            "text/plain": [
              "LOCAL_DATE                    0\n",
              "MEAN_TEMPERATURE_VANCOUVER    0\n",
              "dtype: int64"
            ]
          },
          "metadata": {
            "tags": []
          },
          "execution_count": 9
        }
      ]
    },
    {
      "cell_type": "code",
      "metadata": {
        "id": "I-J-ciJVF7xO",
        "colab": {
          "base_uri": "https://localhost:8080/",
          "height": 513
        },
        "outputId": "f455a22f-741e-4485-ca63-67fe8efb7cea"
      },
      "source": [
        "dates = data_train['LOCAL_DATE'].values\n",
        "temp = data_train['MEAN_TEMPERATURE_VANCOUVER'].values\n",
        "\n",
        "dates = np.array(dates)\n",
        "temp = np.array(temp)\n",
        "\n",
        "plt.figure(figsize=(15,7))\n",
        "plt.plot(dates, temp)\n",
        "\n",
        "plt.title('MEAN_TEMPERATURE_VANCOUVER', fontsize = 20)\n",
        "plt.ylabel('Temperature')\n",
        "plt.xlabel('Datetime')\n",
        "\n",
        "data_train.dtypes"
      ],
      "execution_count": null,
      "outputs": [
        {
          "output_type": "execute_result",
          "data": {
            "text/plain": [
              "LOCAL_DATE                     object\n",
              "MEAN_TEMPERATURE_VANCOUVER    float64\n",
              "dtype: object"
            ]
          },
          "metadata": {
            "tags": []
          },
          "execution_count": 10
        },
        {
          "output_type": "display_data",
          "data": {
            "image/png": "[encoded data removed]",
            "text/plain": [
              "<Figure size 1080x504 with 1 Axes>"
            ]
          },
          "metadata": {
            "tags": [],
            "needs_background": "light"
          }
        }
      ]
    },
    {
      "cell_type": "code",
      "metadata": {
        "id": "q6pJJyP0-22C"
      },
      "source": [
        "dates = np.array(data_train['LOCAL_DATE'].values, dtype=np.float)\n",
        "temp = data_train['MEAN_TEMPERATURE_VANCOUVER'].values"
      ],
      "execution_count": null,
      "outputs": []
    },
    {
      "cell_type": "code",
      "metadata": {
        "id": "RJIjsV7UpWGH"
      },
      "source": [
        "from sklearn.model_selection import train_test_split\n",
        "X_train, X_test, y_train, y_test = train_test_split(dates, temp, test_size=0.2, random_state = 0 , shuffle=False)"
      ],
      "execution_count": null,
      "outputs": []
    },
    {
      "cell_type": "code",
      "metadata": {
        "id": "cptoevWa_ZyI"
      },
      "source": [
        "def windowed_dataset(series, window_size, batch_size, shuffle_buffer):\n",
        "    series = tf.expand_dims(series, axis=-1)\n",
        "    ds = tf.data.Dataset.from_tensor_slices(series)\n",
        "    ds = ds.window(window_size + 1, shift=1, drop_remainder=True)\n",
        "    ds = ds.flat_map(lambda w: w.batch(window_size + 1))\n",
        "    ds = ds.shuffle(shuffle_buffer)\n",
        "    ds = ds.map(lambda w: (w[:-1], w[-1:]))\n",
        "    return ds.batch(batch_size).prefetch(1)"
      ],
      "execution_count": null,
      "outputs": []
    },
    {
      "cell_type": "code",
      "metadata": {
        "id": "GcX70iKqua2r",
        "colab": {
          "base_uri": "https://localhost:8080/"
        },
        "outputId": "4a7ea263-a471-40f5-886c-50991bcc49d4"
      },
      "source": [
        "print(X_train.shape, X_test.shape, y_train.shape, y_test.shape)"
      ],
      "execution_count": null,
      "outputs": [
        {
          "output_type": "stream",
          "text": [
            "(23376,) (5845,) (23376,) (5845,)\n"
          ],
          "name": "stdout"
        }
      ]
    },
    {
      "cell_type": "code",
      "metadata": {
        "id": "svaqDXFMAghg"
      },
      "source": [
        "from tensorflow.keras import layers\n",
        "train_set = windowed_dataset(X_train, window_size=60, batch_size=100, shuffle_buffer=1000)\n",
        "val_set = windowed_dataset(X_test, window_size=60, batch_size=100, shuffle_buffer=5000)\n",
        "model = tf.keras.models.Sequential([\n",
        "  layers.Bidirectional(layers.LSTM(128, return_sequences=True)),\n",
        "  tf.keras.layers.LSTM(60),\n",
        "  tf.keras.layers.Dropout(0.2),\n",
        "  tf.keras.layers.Dense(60, activation=\"relu\"),\n",
        "  tf.keras.layers.Dense(30, activation=\"relu\"),\n",
        "  tf.keras.layers.Dense(1),\n",
        "])"
      ],
      "execution_count": null,
      "outputs": []
    },
    {
      "cell_type": "code",
      "metadata": {
        "id": "ST8DRzSXN2Eg",
        "colab": {
          "base_uri": "https://localhost:8080/"
        },
        "outputId": "e135b60f-d79f-41c2-bd75-d6cc0259928f"
      },
      "source": [
        "from keras.callbacks import ModelCheckpoint\n",
        "checkpoint1 = ModelCheckpoint(\"best_model1.hdf5\", monitor='val_mae', verbose=1,save_best_only=True, mode='auto', period=1,save_weights_only=False)"
      ],
      "execution_count": null,
      "outputs": [
        {
          "output_type": "stream",
          "text": [
            "WARNING:tensorflow:`period` argument is deprecated. Please use `save_freq` to specify the frequency in number of batches seen.\n"
          ],
          "name": "stdout"
        }
      ]
    },
    {
      "cell_type": "code",
      "metadata": {
        "id": "llqNZWvTBLKt",
        "colab": {
          "base_uri": "https://localhost:8080/"
        },
        "outputId": "b0fa401b-6fa9-4c45-9ae7-929f909a25c3"
      },
      "source": [
        "optimizer = tf.keras.optimizers.SGD(learning_rate=1.0000e-04, momentum=0.9)\n",
        "model.compile(loss=tf.keras.losses.Huber(),\n",
        "              optimizer=optimizer,\n",
        "              metrics=[\"mae\"])\n",
        "history = model.fit(train_set, batch_size=128, epochs=30, validation_data=val_set, callbacks=[checkpoint1])"
      ],
      "execution_count": null,
      "outputs": [
        {
          "output_type": "stream",
          "text": [
            "Epoch 1/30\n",
            "234/234 [==============================] - 18s 32ms/step - loss: 1965.0317 - mae: 1965.5319 - val_loss: 1980.3275 - val_mae: 1980.8275\n",
            "\n",
            "Epoch 00001: val_mae improved from inf to 1980.82751, saving model to best_model1.hdf5\n",
            "Epoch 2/30\n",
            "234/234 [==============================] - 6s 26ms/step - loss: 673.2738 - mae: 673.7733 - val_loss: 30.4270 - val_mae: 30.9270\n",
            "\n",
            "Epoch 00002: val_mae improved from 1980.82751 to 30.92697, saving model to best_model1.hdf5\n",
            "Epoch 3/30\n",
            "234/234 [==============================] - 6s 27ms/step - loss: 100.7100 - mae: 101.2090 - val_loss: 54.3786 - val_mae: 54.8786\n",
            "\n",
            "Epoch 00003: val_mae did not improve from 30.92697\n",
            "Epoch 4/30\n",
            "234/234 [==============================] - 6s 27ms/step - loss: 96.8928 - mae: 97.3916 - val_loss: 44.2781 - val_mae: 44.7781\n",
            "\n",
            "Epoch 00004: val_mae did not improve from 30.92697\n",
            "Epoch 5/30\n",
            "234/234 [==============================] - 6s 27ms/step - loss: 95.6032 - mae: 96.1020 - val_loss: 5.3495 - val_mae: 5.8256\n",
            "\n",
            "Epoch 00005: val_mae improved from 30.92697 to 5.82558, saving model to best_model1.hdf5\n",
            "Epoch 6/30\n",
            "234/234 [==============================] - 6s 27ms/step - loss: 95.6406 - mae: 96.1395 - val_loss: 44.7463 - val_mae: 45.2463\n",
            "\n",
            "Epoch 00006: val_mae did not improve from 5.82558\n",
            "Epoch 7/30\n",
            "234/234 [==============================] - 6s 27ms/step - loss: 92.8215 - mae: 93.3198 - val_loss: 49.7850 - val_mae: 50.2850\n",
            "\n",
            "Epoch 00007: val_mae did not improve from 5.82558\n",
            "Epoch 8/30\n",
            "234/234 [==============================] - 6s 27ms/step - loss: 90.7905 - mae: 91.2891 - val_loss: 41.7740 - val_mae: 42.2740\n",
            "\n",
            "Epoch 00008: val_mae did not improve from 5.82558\n",
            "Epoch 9/30\n",
            "234/234 [==============================] - 6s 27ms/step - loss: 89.3553 - mae: 89.8539 - val_loss: 36.7253 - val_mae: 37.2253\n",
            "\n",
            "Epoch 00009: val_mae did not improve from 5.82558\n",
            "Epoch 10/30\n",
            "234/234 [==============================] - 6s 27ms/step - loss: 87.5232 - mae: 88.0221 - val_loss: 52.5562 - val_mae: 53.0562\n",
            "\n",
            "Epoch 00010: val_mae did not improve from 5.82558\n",
            "Epoch 11/30\n",
            "234/234 [==============================] - 6s 27ms/step - loss: 85.0686 - mae: 85.5671 - val_loss: 36.1225 - val_mae: 36.6225\n",
            "\n",
            "Epoch 00011: val_mae did not improve from 5.82558\n",
            "Epoch 12/30\n",
            "234/234 [==============================] - 7s 28ms/step - loss: 82.5890 - mae: 83.0875 - val_loss: 27.2084 - val_mae: 27.7084\n",
            "\n",
            "Epoch 00012: val_mae did not improve from 5.82558\n",
            "Epoch 13/30\n",
            "234/234 [==============================] - 6s 27ms/step - loss: 78.1582 - mae: 78.6566 - val_loss: 50.1108 - val_mae: 50.6108\n",
            "\n",
            "Epoch 00013: val_mae did not improve from 5.82558\n",
            "Epoch 14/30\n",
            "234/234 [==============================] - 6s 27ms/step - loss: 72.8404 - mae: 73.3390 - val_loss: 33.6259 - val_mae: 34.1259\n",
            "\n",
            "Epoch 00014: val_mae did not improve from 5.82558\n",
            "Epoch 15/30\n",
            "234/234 [==============================] - 7s 28ms/step - loss: 68.1347 - mae: 68.6331 - val_loss: 62.5959 - val_mae: 63.0959\n",
            "\n",
            "Epoch 00015: val_mae did not improve from 5.82558\n",
            "Epoch 16/30\n",
            "234/234 [==============================] - 7s 28ms/step - loss: 57.9537 - mae: 58.4520 - val_loss: 62.8908 - val_mae: 63.3908\n",
            "\n",
            "Epoch 00016: val_mae did not improve from 5.82558\n",
            "Epoch 17/30\n",
            "234/234 [==============================] - 6s 27ms/step - loss: 46.0889 - mae: 46.5867 - val_loss: 46.9448 - val_mae: 47.4448\n",
            "\n",
            "Epoch 00017: val_mae did not improve from 5.82558\n",
            "Epoch 18/30\n",
            "234/234 [==============================] - 6s 27ms/step - loss: 31.9121 - mae: 32.4090 - val_loss: 72.5675 - val_mae: 73.0675\n",
            "\n",
            "Epoch 00018: val_mae did not improve from 5.82558\n",
            "Epoch 19/30\n",
            "234/234 [==============================] - 7s 27ms/step - loss: 37.0617 - mae: 37.5592 - val_loss: 68.8223 - val_mae: 69.3223\n",
            "\n",
            "Epoch 00019: val_mae did not improve from 5.82558\n",
            "Epoch 20/30\n",
            "234/234 [==============================] - 6s 27ms/step - loss: 25.0892 - mae: 25.5847 - val_loss: 95.3621 - val_mae: 95.8621\n",
            "\n",
            "Epoch 00020: val_mae did not improve from 5.82558\n",
            "Epoch 21/30\n",
            "234/234 [==============================] - 6s 27ms/step - loss: 16.6661 - mae: 17.1604 - val_loss: 3.8181 - val_mae: 4.2989\n",
            "\n",
            "Epoch 00021: val_mae improved from 5.82558 to 4.29889, saving model to best_model1.hdf5\n",
            "Epoch 22/30\n",
            "234/234 [==============================] - 7s 27ms/step - loss: 9.3913 - mae: 9.8802 - val_loss: 24.4549 - val_mae: 24.9548\n",
            "\n",
            "Epoch 00022: val_mae did not improve from 4.29889\n",
            "Epoch 23/30\n",
            "234/234 [==============================] - 6s 27ms/step - loss: 7.4717 - mae: 7.9534 - val_loss: 7.9885 - val_mae: 8.4883\n",
            "\n",
            "Epoch 00023: val_mae did not improve from 4.29889\n",
            "Epoch 24/30\n",
            "234/234 [==============================] - 7s 27ms/step - loss: 5.2744 - mae: 5.7454 - val_loss: 20.0308 - val_mae: 20.5308\n",
            "\n",
            "Epoch 00024: val_mae did not improve from 4.29889\n",
            "Epoch 25/30\n",
            "234/234 [==============================] - 7s 28ms/step - loss: 4.0884 - mae: 4.5519 - val_loss: 11.0871 - val_mae: 11.5871\n",
            "\n",
            "Epoch 00025: val_mae did not improve from 4.29889\n",
            "Epoch 26/30\n",
            "234/234 [==============================] - 6s 27ms/step - loss: 5.5714 - mae: 6.0409 - val_loss: 9.2625 - val_mae: 9.7625\n",
            "\n",
            "Epoch 00026: val_mae did not improve from 4.29889\n",
            "Epoch 27/30\n",
            "234/234 [==============================] - 7s 27ms/step - loss: 5.2595 - mae: 5.7339 - val_loss: 5.7824 - val_mae: 6.2665\n",
            "\n",
            "Epoch 00027: val_mae did not improve from 4.29889\n",
            "Epoch 28/30\n",
            "234/234 [==============================] - 6s 27ms/step - loss: 7.2226 - mae: 7.7012 - val_loss: 17.8074 - val_mae: 18.3074\n",
            "\n",
            "Epoch 00028: val_mae did not improve from 4.29889\n",
            "Epoch 29/30\n",
            "234/234 [==============================] - 6s 27ms/step - loss: 5.4358 - mae: 5.8984 - val_loss: 12.0652 - val_mae: 12.5652\n",
            "\n",
            "Epoch 00029: val_mae did not improve from 4.29889\n",
            "Epoch 30/30\n",
            "234/234 [==============================] - 6s 27ms/step - loss: 6.4823 - mae: 6.9544 - val_loss: 5.9918 - val_mae: 6.4728\n",
            "\n",
            "Epoch 00030: val_mae did not improve from 4.29889\n"
          ],
          "name": "stdout"
        }
      ]
    },
    {
      "cell_type": "code",
      "metadata": {
        "id": "fJ_WM8IXt3-Q",
        "colab": {
          "base_uri": "https://localhost:8080/",
          "height": 295
        },
        "outputId": "8e3682f8-449c-442c-c969-48ff635adf04"
      },
      "source": [
        "plt.plot(history.history['loss'], label='loss')\n",
        "plt.plot(history.history['mae'], label='mae')\n",
        "plt.title('Train and Validation')\n",
        "plt.ylabel('loss')\n",
        "plt.xlabel('Epoch')\n",
        "plt.legend(loc='upper right')\n",
        "plt.show()"
      ],
      "execution_count": null,
      "outputs": [
        {
          "output_type": "display_data",
          "data": {
            "image/png": "[encoded data removed]",
            "text/plain": [
              "<Figure size 432x288 with 1 Axes>"
            ]
          },
          "metadata": {
            "tags": [],
            "needs_background": "light"
          }
        }
      ]
    },
    {
      "cell_type": "markdown",
      "metadata": {
        "id": "WFv3vvGOAboF"
      },
      "source": [
        "Dwi Atmoko Purbo Sakti [profile dicoding](https://www.dicoding.com/users/dwi_atmoko)"
      ]
    }
  ]
}